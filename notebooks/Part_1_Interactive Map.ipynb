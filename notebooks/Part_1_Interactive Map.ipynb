{
 "cells": [
  {
   "cell_type": "markdown",
   "id": "5492942e-4b52-418f-91f5-f54a369072f6",
   "metadata": {},
   "source": [
    "# Capstone Project: Predicting NYC Taxi Fare\n",
    "\n",
    "Imagine stepping off a plane at JFK Airport, tired and eager to get to Midtown Manhattan. As you hail a taxi, you might wonder—how much will this ride cost?  \n",
    "\n",
    "This project aims to answer that question by predicting NYC taxi fares using trip data. It includes:\n",
    "- An **interactive map** that visualizes key patterns, such as pickup and dropoff locations, high-demand areas like Midtown Manhattan and the Financial District, and popular landmarks.\n",
    "- Two predictive models—**Linear Regression** and **Random Forest Regression**—built to estimate taxi fares based on trip details such as distance, passenger count, and time of day.\n",
    "\n",
    "Through data exploration, modeling, and visualization, this project highlights the factors influencing fare variability and provides practical tools for decision-making. \n"
   ]
  },
  {
   "cell_type": "markdown",
   "id": "7efb4d66-02d2-427d-90cf-b66aa2e71fbe",
   "metadata": {},
   "source": [
    "## Interactive Map\n",
    "To visualize the data, an interactive map was created that includes:\n",
    "- Visualizing pickup and drop-off locations in different layers.\n",
    "- Using polygons to highlight high-demand areas like Midtown Manhattan and the Financial District.\n",
    "- Including landmarks like JFK Airport, Times Square, and Central Park."
   ]
  },
  {
   "cell_type": "code",
   "execution_count": 11,
   "id": "4eb48b20-1fe6-483b-b485-081c697530e3",
   "metadata": {},
   "outputs": [
    {
     "data": {
      "text/plain": [
       "<folium.map.LayerControl at 0x16ad76b50>"
      ]
     },
     "execution_count": 11,
     "metadata": {},
     "output_type": "execute_result"
    }
   ],
   "source": [
    "import pandas as pd\n",
    "import folium\n",
    "\n",
    "# Load your dataset\n",
    "file_path = 'data/taxi_trip_map_data.csv'  # Replace with your actual file path\n",
    "data = pd.read_csv(file_path)\n",
    "\n",
    "# Calculate the average latitude and longitude for the map's initial center\n",
    "center_lat = data['pickup_latitude'].mean()\n",
    "center_lon = data['pickup_longitude'].mean()\n",
    "\n",
    "# Initialize the map\n",
    "nyc_map = folium.Map(location=[center_lat, center_lon], zoom_start=12)\n",
    "\n",
    "# Create separate layers for pickup and dropoff points\n",
    "pickup_layer = folium.FeatureGroup(name='Pickup Locations')\n",
    "dropoff_layer = folium.FeatureGroup(name='Dropoff Locations')\n",
    "\n",
    "# Add pickup points to the pickup layer\n",
    "for _, row in data.iterrows():\n",
    "    folium.CircleMarker(\n",
    "        location=[row['pickup_latitude'], row['pickup_longitude']],\n",
    "        radius=2,\n",
    "        color='blue',\n",
    "        fill=True,\n",
    "        fill_color='blue',\n",
    "        fill_opacity=0.6,\n",
    "        popup=f\"Pickup: {row['pickup_datetime']}\"\n",
    "    ).add_to(pickup_layer)\n",
    "\n",
    "# Add dropoff points to the dropoff layer\n",
    "for _, row in data.iterrows():\n",
    "    folium.CircleMarker(\n",
    "        location=[row['dropoff_latitude'], row['dropoff_longitude']],\n",
    "        radius=2,\n",
    "        color='green',\n",
    "        fill=True,\n",
    "        fill_color='green',\n",
    "        fill_opacity=0.6,\n",
    "        popup=f\"Dropoff: {row['pickup_datetime']}\"\n",
    "    ).add_to(dropoff_layer)\n",
    "\n",
    "# Add layers to the map\n",
    "pickup_layer.add_to(nyc_map)\n",
    "dropoff_layer.add_to(nyc_map)\n",
    "\n",
    "# Add a layer control to toggle between layers\n",
    "folium.LayerControl().add_to(nyc_map)\n",
    "\n",
    "# Save the map to an HTML file\n",
    "# nyc_map.save(\"nyc_interactive_map_with_layers.html\")\n",
    "# print(\"Map saved as 'nyc_interactive_map_with_layers.html'. Open it in your browser to view.\")\n"
   ]
  },
  {
   "cell_type": "markdown",
   "id": "fc0363f4-15da-4672-b6f8-70f625fcdf8e",
   "metadata": {},
   "source": [
    "## Next Steps: Project Overview and Data Analysis"
   ]
  },
  {
   "cell_type": "markdown",
   "id": "aa40a89e-161a-4ace-bf8c-0ab3a51458e8",
   "metadata": {},
   "source": [
    "With the interactive map providing a visual understanding of NYC taxi trip patterns, we now dive into the Project Overview. This section introduces the dataset, highlights its key features, and explores important trends through data analysis. By understanding factors like trip distance, passenger count, and time of day, we can uncover insights that drive fare prediction and improve model performance.\n"
   ]
  }
 ],
 "metadata": {
  "kernelspec": {
   "display_name": "Python 3 (ipykernel)",
   "language": "python",
   "name": "python3"
  },
  "language_info": {
   "codemirror_mode": {
    "name": "ipython",
    "version": 3
   },
   "file_extension": ".py",
   "mimetype": "text/x-python",
   "name": "python",
   "nbconvert_exporter": "python",
   "pygments_lexer": "ipython3",
   "version": "3.11.7"
  }
 },
 "nbformat": 4,
 "nbformat_minor": 5
}
